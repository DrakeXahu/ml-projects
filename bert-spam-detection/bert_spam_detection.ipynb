{
 "cells": [
  {
   "cell_type": "code",
   "execution_count": 41,
   "metadata": {
    "id": "wOtG4cf0qVAZ"
   },
   "outputs": [],
   "source": [
    "# Initial imports\n",
    "import numpy as np\n",
    "import pandas as pd\n",
    "import tensorflow as tf\n",
    "import tensorflow_hub as hub\n",
    "from tensorflow.keras.models import Model\n",
    "import re\n",
    "from tqdm import tqdm\n",
    "import matplotlib.pyplot as plt\n",
    "pd.set_option('display.max_colwidth', None)\n",
    "from sklearn.model_selection import train_test_split\n",
    "import pickle"
   ]
  },
  {
   "cell_type": "markdown",
   "metadata": {
    "id": "ZTWRqbrBqVAu"
   },
   "source": [
    "## Loading the spam detection dataset\n",
    "- The dataset is available <a href=\"https://www.kaggle.com/ozlerhakan/spam-or-not-spam-dataset\">here</a>.\n",
    "- This is the simplified version of Apache spam assassin's public database originally sourced from <a href=\"https://spamassassin.apache.org/old/publiccorpus/\">here</a>.\n",
    "- This has 2500 normal and 500 spam emails.\n",
    "- We will use a pretrained uncased <a href=\"https://tfhub.dev/tensorflow/bert_en_uncased_L-12_H-768_A-12/4\">BERT</a> model to get word vectors."
   ]
  },
  {
   "cell_type": "code",
   "execution_count": 27,
   "metadata": {
    "colab": {
     "base_uri": "https://localhost:8080/"
    },
    "id": "B3csZKDrqVAv",
    "outputId": "b18d3803-1951-4170-eea4-f6e075bd3035"
   },
   "outputs": [
    {
     "data": {
      "text/html": [
       "<div>\n",
       "<style scoped>\n",
       "    .dataframe tbody tr th:only-of-type {\n",
       "        vertical-align: middle;\n",
       "    }\n",
       "\n",
       "    .dataframe tbody tr th {\n",
       "        vertical-align: top;\n",
       "    }\n",
       "\n",
       "    .dataframe thead th {\n",
       "        text-align: right;\n",
       "    }\n",
       "</style>\n",
       "<table border=\"1\" class=\"dataframe\">\n",
       "  <thead>\n",
       "    <tr style=\"text-align: right;\">\n",
       "      <th></th>\n",
       "      <th>email</th>\n",
       "      <th>label</th>\n",
       "    </tr>\n",
       "  </thead>\n",
       "  <tbody>\n",
       "    <tr>\n",
       "      <th>0</th>\n",
       "      <td>date wed NUMBER aug NUMBER NUMBER NUMBER NUMBER NUMBER from chris garrigues cwg dated NUMBER NUMBERfaNUMBERd deepeddy com message id NUMBER NUMBER tmda deepeddy vircio com i can t reproduce this error for me it is very repeatable like every time without fail this is the debug log of the pick happening NUMBER NUMBER NUMBER pick_it exec pick inbox list lbrace lbrace subject ftp rbrace rbrace NUMBER NUMBER sequence mercury NUMBER NUMBER NUMBER exec pick inbox list lbrace lbrace subject ftp rbrace rbrace NUMBER NUMBER sequence mercury NUMBER NUMBER NUMBER ftoc_pickmsgs NUMBER hit NUMBER NUMBER NUMBER marking NUMBER hits NUMBER NUMBER NUMBER tkerror syntax error in expression int note if i run the pick command by hand delta pick inbox list lbrace lbrace subject ftp rbrace rbrace NUMBER NUMBER sequence mercury NUMBER hit that s where the NUMBER hit comes from obviously the version of nmh i m using is delta pick version pick nmh NUMBER NUMBER NUMBER compiled on URL at sun mar NUMBER NUMBER NUMBER NUMBER ict NUMBER and the relevant part of my mh_profile delta mhparam pick seq sel list since the pick command works the sequence actually both of them the one that s explicit on the command line from the search popup and the one that comes from mh_profile do get created kre ps this is still using the version of the code form a day ago i haven t been able to reach the cvs repository today local routing issue i think _______________________________________________ exmh workers mailing list exmh workers URL URL</td>\n",
       "      <td>0</td>\n",
       "    </tr>\n",
       "    <tr>\n",
       "      <th>1</th>\n",
       "      <td>martin a posted tassos papadopoulos the greek sculptor behind the plan judged that the limestone of mount kerdylio NUMBER miles east of salonika and not far from the mount athos monastic community was ideal for the patriotic sculpture as well as alexander s granite features NUMBER ft high and NUMBER ft wide a museum a restored amphitheatre and car park for admiring crowds are planned so is this mountain limestone or granite if it s limestone it ll weather pretty fast yahoo groups sponsor NUMBER dvds free s p join now URL to unsubscribe from this group send an email to forteana unsubscribe URL your use of yahoo groups is subject to URL</td>\n",
       "      <td>0</td>\n",
       "    </tr>\n",
       "  </tbody>\n",
       "</table>\n",
       "</div>"
      ],
      "text/plain": [
       "                                                                                                                                                                                                                                                                                                                                                                                                                                                                                                                                                                                                                                                                                                                                                                                                                                                                                                                                                                                                                                                                                                                                                                                                                                                                                                                                                                                                                                                                                                                                                                                email  \\\n",
       "0   date wed NUMBER aug NUMBER NUMBER NUMBER NUMBER NUMBER from chris garrigues cwg dated NUMBER NUMBERfaNUMBERd deepeddy com message id NUMBER NUMBER tmda deepeddy vircio com i can t reproduce this error for me it is very repeatable like every time without fail this is the debug log of the pick happening NUMBER NUMBER NUMBER pick_it exec pick inbox list lbrace lbrace subject ftp rbrace rbrace NUMBER NUMBER sequence mercury NUMBER NUMBER NUMBER exec pick inbox list lbrace lbrace subject ftp rbrace rbrace NUMBER NUMBER sequence mercury NUMBER NUMBER NUMBER ftoc_pickmsgs NUMBER hit NUMBER NUMBER NUMBER marking NUMBER hits NUMBER NUMBER NUMBER tkerror syntax error in expression int note if i run the pick command by hand delta pick inbox list lbrace lbrace subject ftp rbrace rbrace NUMBER NUMBER sequence mercury NUMBER hit that s where the NUMBER hit comes from obviously the version of nmh i m using is delta pick version pick nmh NUMBER NUMBER NUMBER compiled on URL at sun mar NUMBER NUMBER NUMBER NUMBER ict NUMBER and the relevant part of my mh_profile delta mhparam pick seq sel list since the pick command works the sequence actually both of them the one that s explicit on the command line from the search popup and the one that comes from mh_profile do get created kre ps this is still using the version of the code form a day ago i haven t been able to reach the cvs repository today local routing issue i think _______________________________________________ exmh workers mailing list exmh workers URL URL    \n",
       "1                                                                                                                                                                                                                                                                                                                                                                                                                                                                                                                                                                                                                                                                                                                                                                                                                                                                                                                 martin a posted tassos papadopoulos the greek sculptor behind the plan judged that the limestone of mount kerdylio NUMBER miles east of salonika and not far from the mount athos monastic community was ideal for the patriotic sculpture as well as alexander s granite features NUMBER ft high and NUMBER ft wide a museum a restored amphitheatre and car park for admiring crowds are planned so is this mountain limestone or granite if it s limestone it ll weather pretty fast yahoo groups sponsor NUMBER dvds free s p join now URL to unsubscribe from this group send an email to forteana unsubscribe URL your use of yahoo groups is subject to URL    \n",
       "\n",
       "   label  \n",
       "0      0  \n",
       "1      0  "
      ]
     },
     "execution_count": 27,
     "metadata": {},
     "output_type": "execute_result"
    }
   ],
   "source": [
    "spam = pd.read_csv(\"spam.csv\")\n",
    "spam.head(2)"
   ]
  },
  {
   "cell_type": "markdown",
   "metadata": {},
   "source": [
    "The numbers have been replaced with \"NUMBER\" and similarly with the web urls replaced with \"URL\""
   ]
  },
  {
   "cell_type": "code",
   "execution_count": 14,
   "metadata": {},
   "outputs": [
    {
     "name": "stdout",
     "output_type": "stream",
     "text": [
      "Max words 13303\n",
      "Min words 0\n"
     ]
    }
   ],
   "source": [
    "ls = spam['email'].apply(lambda x: len(str(x).split()))\n",
    "print(\"Max words\", ls.max())\n",
    "print(\"Min words\", ls.min())"
   ]
  },
  {
   "cell_type": "code",
   "execution_count": 16,
   "metadata": {},
   "outputs": [
    {
     "data": {
      "text/html": [
       "<div>\n",
       "<style scoped>\n",
       "    .dataframe tbody tr th:only-of-type {\n",
       "        vertical-align: middle;\n",
       "    }\n",
       "\n",
       "    .dataframe tbody tr th {\n",
       "        vertical-align: top;\n",
       "    }\n",
       "\n",
       "    .dataframe thead th {\n",
       "        text-align: right;\n",
       "    }\n",
       "</style>\n",
       "<table border=\"1\" class=\"dataframe\">\n",
       "  <thead>\n",
       "    <tr style=\"text-align: right;\">\n",
       "      <th></th>\n",
       "      <th>email</th>\n",
       "      <th>label</th>\n",
       "    </tr>\n",
       "  </thead>\n",
       "  <tbody>\n",
       "    <tr>\n",
       "      <th>806</th>\n",
       "      <td>URL</td>\n",
       "      <td>0</td>\n",
       "    </tr>\n",
       "    <tr>\n",
       "      <th>1953</th>\n",
       "      <td>url URL date not supplied URL</td>\n",
       "      <td>0</td>\n",
       "    </tr>\n",
       "    <tr>\n",
       "      <th>1955</th>\n",
       "      <td>url URL date not supplied URL</td>\n",
       "      <td>0</td>\n",
       "    </tr>\n",
       "    <tr>\n",
       "      <th>1956</th>\n",
       "      <td>url URL date not supplied URL</td>\n",
       "      <td>0</td>\n",
       "    </tr>\n",
       "    <tr>\n",
       "      <th>1957</th>\n",
       "      <td>url URL date not supplied URL</td>\n",
       "      <td>0</td>\n",
       "    </tr>\n",
       "    <tr>\n",
       "      <th>1958</th>\n",
       "      <td>url URL date not supplied URL</td>\n",
       "      <td>0</td>\n",
       "    </tr>\n",
       "    <tr>\n",
       "      <th>1959</th>\n",
       "      <td>url URL date not supplied URL</td>\n",
       "      <td>0</td>\n",
       "    </tr>\n",
       "    <tr>\n",
       "      <th>1961</th>\n",
       "      <td>url URL date not supplied URL</td>\n",
       "      <td>0</td>\n",
       "    </tr>\n",
       "    <tr>\n",
       "      <th>2009</th>\n",
       "      <td>url URL date not supplied URL</td>\n",
       "      <td>0</td>\n",
       "    </tr>\n",
       "    <tr>\n",
       "      <th>2105</th>\n",
       "      <td>url URL date not supplied URL</td>\n",
       "      <td>0</td>\n",
       "    </tr>\n",
       "    <tr>\n",
       "      <th>2109</th>\n",
       "      <td>url URL date not supplied URL</td>\n",
       "      <td>0</td>\n",
       "    </tr>\n",
       "    <tr>\n",
       "      <th>2806</th>\n",
       "      <td></td>\n",
       "      <td>1</td>\n",
       "    </tr>\n",
       "    <tr>\n",
       "      <th>2828</th>\n",
       "      <td></td>\n",
       "      <td>1</td>\n",
       "    </tr>\n",
       "  </tbody>\n",
       "</table>\n",
       "</div>"
      ],
      "text/plain": [
       "                               email  label\n",
       "806                             URL       0\n",
       "1953  url URL date not supplied URL       0\n",
       "1955  url URL date not supplied URL       0\n",
       "1956  url URL date not supplied URL       0\n",
       "1957  url URL date not supplied URL       0\n",
       "1958  url URL date not supplied URL       0\n",
       "1959  url URL date not supplied URL       0\n",
       "1961  url URL date not supplied URL       0\n",
       "2009  url URL date not supplied URL       0\n",
       "2105  url URL date not supplied URL       0\n",
       "2109  url URL date not supplied URL       0\n",
       "2806                                      1\n",
       "2828                                      1"
      ]
     },
     "execution_count": 16,
     "metadata": {},
     "output_type": "execute_result"
    }
   ],
   "source": [
    "spam[spam[\"email\"].str.len() <= 30]"
   ]
  },
  {
   "cell_type": "code",
   "execution_count": 7,
   "metadata": {
    "id": "gAiEcQ3rFClv"
   },
   "outputs": [],
   "source": [
    "spam = spam[spam[\"email\"].str.len() > 30]"
   ]
  },
  {
   "cell_type": "markdown",
   "metadata": {},
   "source": [
    "We only keep rows with sentence length greater than 30 since they have no valuable data"
   ]
  },
  {
   "cell_type": "code",
   "execution_count": null,
   "metadata": {
    "id": "noQeg6XxFClv",
    "outputId": "f063dbda-9030-482b-9e54-a8d566fcc26f"
   },
   "outputs": [
    {
     "data": {
      "text/plain": [
       "(2986, 2)"
      ]
     },
     "execution_count": 48,
     "metadata": {},
     "output_type": "execute_result"
    }
   ],
   "source": [
    "spam.shape"
   ]
  },
  {
   "cell_type": "code",
   "execution_count": 38,
   "metadata": {
    "id": "obxcDCY3T7CV"
   },
   "outputs": [],
   "source": [
    "# Basic preprocessing\n",
    "\n",
    "# Replace the numbers or web links with NUMBER and URL \n",
    "def init_preprocess(x):\n",
    "    x = re.sub(r'don\\'t', 'do not', x)\n",
    "    x = re.sub(r'won\\'t', 'will not', x)\n",
    "    x = re.sub(r'can\\'t', 'cannot', x)\n",
    "    x = re.sub(r'shouldn\\'t', 'should not', x)\n",
    "    x = re.sub(r'couldn\\'t', 'could not', x)\n",
    "    x = re.sub(r'didn\\'t', 'did not', x)\n",
    "    x = re.sub(r'wouldn\\'t', 'would not', x)\n",
    "    x = re.sub(r'shan\\'t', 'shall not', x)\n",
    "    x = re.sub(r'could\\'ve', 'could have', x)\n",
    "    x = re.sub(r'would\\'ve', 'would have', x)\n",
    "    x = re.sub(r'should\\'ve', 'should have', x)\n",
    "    x = re.sub(r'(\\s[0-9\\-.]+)',\" NUMBER\", x)\n",
    "    x = re.sub(r\"http\\S+\", \" URL\", x)\n",
    "    return x\n",
    "\n",
    "# This is to add a column if a NUMBER or URL is present\n",
    "# This can be changed to a count of NUMBER or URL\n",
    "def is_present(df, val):\n",
    "    def presence(x):\n",
    "        if val in x: return 1\n",
    "        else: return 0\n",
    "    df[val+\"_present\"] = df[\"email\"].apply(presence)\n",
    "    return df\n",
    "\n",
    "# Removing NUMBER and URL after recording their presence\n",
    "def preprocess(x):\n",
    "    x = str(x)\n",
    "    x = re.sub(\"[^A-Za-z0-9]\", \"  \", x)\n",
    "    x = re.sub(\"NUMBER|URL\", \" \", x)\n",
    "    x = re.sub(\"  +\", \" \", x)\n",
    "    return x.strip()"
   ]
  },
  {
   "cell_type": "code",
   "execution_count": 114,
   "metadata": {
    "colab": {
     "base_uri": "https://localhost:8080/",
     "height": 312
    },
    "id": "9xW0grHRFClw",
    "outputId": "c05e0eb6-d386-4d5c-c3de-2ae94539e78e",
    "tags": []
   },
   "outputs": [
    {
     "data": {
      "text/html": [
       "<div>\n",
       "<style scoped>\n",
       "    .dataframe tbody tr th:only-of-type {\n",
       "        vertical-align: middle;\n",
       "    }\n",
       "\n",
       "    .dataframe tbody tr th {\n",
       "        vertical-align: top;\n",
       "    }\n",
       "\n",
       "    .dataframe thead th {\n",
       "        text-align: right;\n",
       "    }\n",
       "</style>\n",
       "<table border=\"1\" class=\"dataframe\">\n",
       "  <thead>\n",
       "    <tr style=\"text-align: right;\">\n",
       "      <th></th>\n",
       "      <th>email</th>\n",
       "      <th>label</th>\n",
       "      <th>NUMBER_present</th>\n",
       "      <th>URL_present</th>\n",
       "    </tr>\n",
       "  </thead>\n",
       "  <tbody>\n",
       "    <tr>\n",
       "      <th>0</th>\n",
       "      <td>date wed aug from chris garrigues cwg dated fa d deepeddy com message id tmda deepeddy vircio com i can t reproduce this error for me it is very repeatable like every time without fail this is the debug log of the pick happening pick it exec pick inbox list lbrace lbrace subject ftp rbrace rbrace sequence mercury exec pick inbox list lbrace lbrace subject ftp rbrace rbrace sequence mercury ftoc pickmsgs hit marking hits tkerror syntax error in expression int note if i run the pick command by hand delta pick inbox list lbrace lbrace subject ftp rbrace rbrace sequence mercury hit that s where the hit comes from obviously the version of nmh i m using is delta pick version pick nmh compiled on at sun mar ict and the relevant part of my mh profile delta mhparam pick seq sel list since the pick command works the sequence actually both of them the one that s explicit on the command line from the search popup and the one that comes from mh profile do get created kre ps this is still using the version of the code form a day ago i haven t been able to reach the cvs repository today local routing issue i think exmh workers mailing list exmh workers</td>\n",
       "      <td>0</td>\n",
       "      <td>1</td>\n",
       "      <td>1</td>\n",
       "    </tr>\n",
       "    <tr>\n",
       "      <th>1</th>\n",
       "      <td>martin a posted tassos papadopoulos the greek sculptor behind the plan judged that the limestone of mount kerdylio miles east of salonika and not far from the mount athos monastic community was ideal for the patriotic sculpture as well as alexander s granite features ft high and ft wide a museum a restored amphitheatre and car park for admiring crowds are planned so is this mountain limestone or granite if it s limestone it ll weather pretty fast yahoo groups sponsor dvds free s p join now to unsubscribe from this group send an email to forteana unsubscribe your use of yahoo groups is subject to</td>\n",
       "      <td>0</td>\n",
       "      <td>1</td>\n",
       "      <td>1</td>\n",
       "    </tr>\n",
       "  </tbody>\n",
       "</table>\n",
       "</div>"
      ],
      "text/plain": [
       "                                                                                                                                                                                                                                                                                                                                                                                                                                                                                                                                                                                                                                                                                                                                                                                                                                                                                                                                                                                                                                                                                                                                                                                                 email  ...  URL_present\n",
       "0  date wed aug from chris garrigues cwg dated fa d deepeddy com message id tmda deepeddy vircio com i can t reproduce this error for me it is very repeatable like every time without fail this is the debug log of the pick happening pick it exec pick inbox list lbrace lbrace subject ftp rbrace rbrace sequence mercury exec pick inbox list lbrace lbrace subject ftp rbrace rbrace sequence mercury ftoc pickmsgs hit marking hits tkerror syntax error in expression int note if i run the pick command by hand delta pick inbox list lbrace lbrace subject ftp rbrace rbrace sequence mercury hit that s where the hit comes from obviously the version of nmh i m using is delta pick version pick nmh compiled on at sun mar ict and the relevant part of my mh profile delta mhparam pick seq sel list since the pick command works the sequence actually both of them the one that s explicit on the command line from the search popup and the one that comes from mh profile do get created kre ps this is still using the version of the code form a day ago i haven t been able to reach the cvs repository today local routing issue i think exmh workers mailing list exmh workers  ...            1\n",
       "1                                                                                                                                                                                                                                                                                                                                                                                                                                                                                                                                                                           martin a posted tassos papadopoulos the greek sculptor behind the plan judged that the limestone of mount kerdylio miles east of salonika and not far from the mount athos monastic community was ideal for the patriotic sculpture as well as alexander s granite features ft high and ft wide a museum a restored amphitheatre and car park for admiring crowds are planned so is this mountain limestone or granite if it s limestone it ll weather pretty fast yahoo groups sponsor dvds free s p join now to unsubscribe from this group send an email to forteana unsubscribe your use of yahoo groups is subject to  ...            1\n",
       "\n",
       "[2 rows x 4 columns]"
      ]
     },
     "execution_count": 114,
     "metadata": {},
     "output_type": "execute_result"
    }
   ],
   "source": [
    "spam[\"email\"] = spam[\"email\"].apply(init_preprocess)\n",
    "spam = is_present(spam, \"NUMBER\")\n",
    "spam = is_present(spam, \"URL\")\n",
    "spam[\"email\"] = spam[\"email\"].apply(preprocess)\n",
    "spam.head(2)"
   ]
  },
  {
   "cell_type": "code",
   "execution_count": 115,
   "metadata": {
    "id": "SuYmSA8NFCly"
   },
   "outputs": [],
   "source": [
    "# Saving\n",
    "#spam.to_csv(\"p_spam.csv\", index=False)"
   ]
  },
  {
   "cell_type": "code",
   "execution_count": 3,
   "metadata": {
    "id": "ZaHgaU-gFi--"
   },
   "outputs": [],
   "source": [
    "# Loading\n",
    "#spam = pd.read_csv(\"p_spam.csv\")"
   ]
  },
  {
   "cell_type": "code",
   "execution_count": 185,
   "metadata": {
    "colab": {
     "base_uri": "https://localhost:8080/"
    },
    "id": "NsYDd3okqVBF",
    "outputId": "181ff354-149e-4d67-a441-1d849e0faaed"
   },
   "outputs": [
    {
     "name": "stdout",
     "output_type": "stream",
     "text": [
      "(2388, 3) (2388, 2)\n",
      "(598, 3) (598, 2)\n"
     ]
    }
   ],
   "source": [
    "# We split the dataset into train and test\n",
    "enc = onh(sparse=False)\n",
    "X = spam.drop(columns=[\"label\"])\n",
    "Y = enc.fit_transform(spam[[\"label\"]])\n",
    "\n",
    "x_train, x_test, y_train, y_test = train_test_split(X, Y, test_size=0.2, stratify=Y, random_state=734)\n",
    "print(x_train.shape, y_train.shape)\n",
    "print(x_test.shape, y_test.shape)"
   ]
  },
  {
   "cell_type": "markdown",
   "metadata": {
    "id": "bBtqNGN9qVBM"
   },
   "source": [
    "## Creating BERT model\n",
    "\n",
    "- This is bert_en_uncased_L-12_H-768_A-12\n",
    "- We are using an uncased BERT with 12 hidden layers, 12 Attention layers and 768 hidden size or output dimension.\n",
    "- This model has been pretrained for English on Wikipedia and BooksCorpus.\n",
    "- This is called \"uncased\" because the text was lower-cased before tokenization.\n",
    "- We are also going to use the tokenization provided by google-research\n",
    "- Since BERT has a position embedding for token embeddings for each input and this comes from a lookup table, the size is fixed for the lookup table. This imposes a max sequence length of 512."
   ]
  },
  {
   "cell_type": "code",
   "execution_count": 11,
   "metadata": {
    "id": "i8xd2HejqVBN"
   },
   "outputs": [],
   "source": [
    "\n",
    "max_seq_length = 512\n",
    "\n",
    "# BERT takes 3 inputs\n",
    "# This is in form of a dictionary\n",
    "# input_word_ids for sequence of words represented as integers.\n",
    "# input_mask for padding\n",
    "# segment_ids if only one sentence per classification, the total seg vector is 0. \n",
    "# If two sentences are given with [sep] token inbetween them, the first seq segment vectors are zeros and \n",
    "# second seq segment vector are 1's\n",
    "\n",
    "encoder_inputs = dict(\n",
    "    input_word_ids=tf.keras.layers.Input(shape=(max_seq_length,), dtype=tf.int32),\n",
    "    input_mask=tf.keras.layers.Input(shape=(max_seq_length,), dtype=tf.int32),\n",
    "    input_type_ids=tf.keras.layers.Input(shape=(max_seq_length,), dtype=tf.int32),\n",
    ")\n",
    "# BERT layer \n",
    "# Pooled output for each input sentence as a whole\n",
    "# Sequence output to represent each token in context \n",
    "# We are only using the pooled output for now\n",
    "bert_encoder = hub.KerasLayer(\"https://tfhub.dev/tensorflow/bert_en_uncased_L-12_H-768_A-12/4\", trainable=False)\n",
    "outputs = bert_encoder(encoder_inputs)\n",
    "pooled_output = outputs[\"pooled_output\"]\n",
    "seq_output = outputs[\"sequence_output\"]\n",
    "# Make the model\n",
    "bert_model = Model(inputs=encoder_inputs, outputs=pooled_output)\n"
   ]
  },
  {
   "cell_type": "code",
   "execution_count": 16,
   "metadata": {
    "colab": {
     "base_uri": "https://localhost:8080/"
    },
    "id": "lQJsjg6fqVBQ",
    "outputId": "bded6ed6-384b-44ec-9983-74ce17cde699"
   },
   "outputs": [
    {
     "name": "stdout",
     "output_type": "stream",
     "text": [
      "Model: \"model\"\n",
      "__________________________________________________________________________________________________\n",
      "Layer (type)                    Output Shape         Param #     Connected to                     \n",
      "==================================================================================================\n",
      "input_2 (InputLayer)            [(None, 512)]        0                                            \n",
      "__________________________________________________________________________________________________\n",
      "input_3 (InputLayer)            [(None, 512)]        0                                            \n",
      "__________________________________________________________________________________________________\n",
      "input_1 (InputLayer)            [(None, 512)]        0                                            \n",
      "__________________________________________________________________________________________________\n",
      "keras_layer (KerasLayer)        {'default': (None, 7 109482241   input_2[0][0]                    \n",
      "                                                                 input_3[0][0]                    \n",
      "                                                                 input_1[0][0]                    \n",
      "==================================================================================================\n",
      "Total params: 109,482,241\n",
      "Trainable params: 0\n",
      "Non-trainable params: 109,482,241\n",
      "__________________________________________________________________________________________________\n"
     ]
    }
   ],
   "source": [
    "bert_model.summary()"
   ]
  },
  {
   "cell_type": "markdown",
   "metadata": {
    "id": "Ewv4hFCsqVBU"
   },
   "source": [
    "## Tokenization"
   ]
  },
  {
   "cell_type": "code",
   "execution_count": 12,
   "metadata": {
    "id": "tX3VEFjiqVBU"
   },
   "outputs": [],
   "source": [
    "# getting Vocab file from BERT\n",
    "vocab_file = bert_encoder.resolved_object.vocab_file.asset_path.numpy()\n",
    "do_lower_case = bert_encoder.resolved_object.do_lower_case.numpy()\n",
    "pickle.dump(vocab_file, open('bert_vocab.pkl', 'wb'))\n",
    "pickle.dump(do_lower_case, open('bert_lowercase.pkl', 'wb'))"
   ]
  },
  {
   "cell_type": "code",
   "execution_count": 18,
   "metadata": {
    "id": "Y_iPwa99qVBW"
   },
   "outputs": [],
   "source": [
    "# Download the tokenization.py file from github\n",
    "# https://raw.githubusercontent.com/google-research/bert/master/tokenization.py\n",
    "from tokenization import FullTokenizer"
   ]
  },
  {
   "cell_type": "code",
   "execution_count": 19,
   "metadata": {
    "id": "HgOutEtEFCl1"
   },
   "outputs": [],
   "source": [
    "tokenizer = FullTokenizer(vocab_file, do_lower_case)"
   ]
  },
  {
   "cell_type": "code",
   "execution_count": 21,
   "metadata": {},
   "outputs": [],
   "source": [
    "#pickle.dump(tokenizer, open('tokenizer_save.pkl','wb'))"
   ]
  },
  {
   "cell_type": "code",
   "execution_count": 120,
   "metadata": {
    "id": "051AEL6AFCl2"
   },
   "outputs": [],
   "source": [
    "# Helper function for tokenization\n",
    "# This adds [CLS] and [SEP] to each sentence after tokenization and [PAD] for padding\n",
    "# The mask and segment vector for each input is also calculated\n",
    "def tokenizer_func(x):\n",
    "    max_seq_len = 512\n",
    "    tokens_arr, mask, segment = [], [], np.zeros((len(x), max_seq_len))\n",
    "    for i,sent in enumerate(tqdm(x['email'].values)):\n",
    "        tokens = tokenizer.tokenize(sent)\n",
    "        tokens = tokens[:(max_seq_len-2)]\n",
    "        tokens = ['[CLS]',*tokens,'[SEP]']\n",
    "        zeros = len(tokens)\n",
    "        while len(tokens)<max_seq_len:\n",
    "            tokens.append('[PAD]')\n",
    "        tokens_arr.append(tokenizer.convert_tokens_to_ids(tokens))\n",
    "        mask.append([1]*zeros+[0]*(max_seq_len - zeros))\n",
    "    return np.array(tokens_arr), np.array(mask), segment"
   ]
  },
  {
   "cell_type": "code",
   "execution_count": 187,
   "metadata": {
    "colab": {
     "base_uri": "https://localhost:8080/"
    },
    "id": "wd99t0wdFCl2",
    "outputId": "9660afe5-51a9-4fcd-c20f-240f49fddb74",
    "scrolled": true,
    "tags": []
   },
   "outputs": [
    {
     "name": "stderr",
     "output_type": "stream",
     "text": [
      "100%|██████████| 2388/2388 [00:11<00:00, 210.92it/s]\n",
      "100%|██████████| 598/598 [00:04<00:00, 131.81it/s]"
     ]
    },
    {
     "name": "stdout",
     "output_type": "stream",
     "text": [
      "[[  101  2006 10722 ...     0     0     0]\n",
      " [  101  4931  2144 ...     0     0     0]\n",
      " [  101  1045  2109 ...     0     0     0]\n",
      " [  101 23760 13767 ...     0     0     0]\n",
      " [  101 24471  2140 ...     0     0     0]]\n",
      "[[1 1 1 ... 0 0 0]\n",
      " [1 1 1 ... 0 0 0]\n",
      " [1 1 1 ... 0 0 0]\n",
      " [1 1 1 ... 0 0 0]\n",
      " [1 1 1 ... 0 0 0]]\n",
      "[[0. 0. 0. ... 0. 0. 0.]\n",
      " [0. 0. 0. ... 0. 0. 0.]\n",
      " [0. 0. 0. ... 0. 0. 0.]\n",
      " [0. 0. 0. ... 0. 0. 0.]\n",
      " [0. 0. 0. ... 0. 0. 0.]]\n"
     ]
    },
    {
     "name": "stderr",
     "output_type": "stream",
     "text": [
      "\n"
     ]
    }
   ],
   "source": [
    "x_train_tokens, x_train_mask, x_train_segment = tokenizer_func(x_train)\n",
    "x_test_tokens, x_test_mask, x_test_segment = tokenizer_func(x_test)  \n",
    "print(x_train_tokens[:5])\n",
    "print(x_train_mask[:5])\n",
    "print(x_train_segment[:5])"
   ]
  },
  {
   "cell_type": "code",
   "execution_count": null,
   "metadata": {
    "id": "QwOVgQFDqVBy",
    "outputId": "92f52a2c-04a4-4fa8-cef3-5e5baaeae5ea"
   },
   "outputs": [
    {
     "data": {
      "text/plain": [
       "{'input_word_ids': <KerasTensor: shape=(None, 13300) dtype=int32 (created by layer 'input_16')>,\n",
       " 'input_mask': <KerasTensor: shape=(None, 13300) dtype=int32 (created by layer 'input_17')>,\n",
       " 'input_type_ids': <KerasTensor: shape=(None, 13300) dtype=int32 (created by layer 'input_18')>}"
      ]
     },
     "execution_count": 120,
     "metadata": {},
     "output_type": "execute_result"
    }
   ],
   "source": [
    "# Check the input and output\n",
    "bert_model.input"
   ]
  },
  {
   "cell_type": "code",
   "execution_count": null,
   "metadata": {
    "id": "ZcpkQq1OqVB0",
    "outputId": "7ba1f897-b099-4c2d-e423-97ae59b0ae85"
   },
   "outputs": [
    {
     "data": {
      "text/plain": [
       "<KerasTensor: shape=(None, 768) dtype=float32 (created by layer 'keras_layer_6')>"
      ]
     },
     "execution_count": 121,
     "metadata": {},
     "output_type": "execute_result"
    }
   ],
   "source": [
    "bert_model.output"
   ]
  },
  {
   "cell_type": "markdown",
   "metadata": {},
   "source": [
    "## Prediction"
   ]
  },
  {
   "cell_type": "code",
   "execution_count": 188,
   "metadata": {
    "id": "IxdIlOIBlm7j"
   },
   "outputs": [],
   "source": [
    "# Get predictions for the sequences\n",
    "\n",
    "inp = dict(input_word_ids=x_train_tokens, input_mask=x_train_mask, input_type_ids=x_train_segment)\n",
    "x_train_bert_output=bert_model.predict(inp)\n",
    "inp_te = dict(input_word_ids=x_test_tokens, input_mask=x_test_mask, input_type_ids=x_test_segment)\n",
    "x_test_bert_output=bert_model.predict(inp_te)"
   ]
  },
  {
   "cell_type": "markdown",
   "metadata": {
    "id": "oYwS1QbAqVCD"
   },
   "source": [
    "## Create a model to train with the BERT predictions to solve the original problem\n",
    "\n",
    "- To solve the original problem, we create a Dense model with the BERT predictions as our input to the model.\n",
    "- The model has 4 hidden layers followed by an output layer with the softmax activation function.\n",
    "- To prevent an overfit, we use Dropout layers in between.\n",
    "- Also since the dataset is imbalanced, we use class weights to get a robust model."
   ]
  },
  {
   "cell_type": "code",
   "execution_count": 190,
   "metadata": {
    "id": "od8PQlYRqVCE"
   },
   "outputs": [],
   "source": [
    "##import\n",
    "from tensorflow.keras.optimizers import Adam\n",
    "from tensorflow.keras.layers import Input, Dense, Activation, Dropout, LeakyReLU\n",
    "from tensorflow.keras.models import Model\n",
    "from sklearn.utils.class_weight import compute_class_weight\n",
    "from numpy import hstack"
   ]
  },
  {
   "cell_type": "code",
   "execution_count": 196,
   "metadata": {
    "colab": {
     "base_uri": "https://localhost:8080/"
    },
    "id": "w2WsvZmXFCl7",
    "outputId": "1782d3eb-9301-414d-8137-ceb73907bc66"
   },
   "outputs": [
    {
     "name": "stdout",
     "output_type": "stream",
     "text": [
      "{0: 0.5998392928887103, 1: 3.004024144869215}\n"
     ]
    }
   ],
   "source": [
    "# For unbalanced data\n",
    "class_weights = list(compute_class_weight('balanced', np.unique(spam[\"label\"]), spam[\"label\"]))\n",
    "class_weights = {0:class_weights[0], 1:class_weights[1]}\n",
    "print(class_weights)"
   ]
  },
  {
   "cell_type": "code",
   "execution_count": 197,
   "metadata": {
    "id": "su3Hnsb_JHIj"
   },
   "outputs": [],
   "source": [
    "# Stacking the two extra columns from earlier\n",
    "x_train_fin = np.hstack((x_train_bert_output, x_train[\"NUMBER_present\"].values.reshape(-1,1), x_train[\"URL_present\"].values.reshape(-1,1)))\n",
    "x_test_fin = np.hstack((x_test_bert_output, x_test[\"NUMBER_present\"].values.reshape(-1,1), x_test[\"URL_present\"].values.reshape(-1,1)))"
   ]
  },
  {
   "cell_type": "code",
   "execution_count": 198,
   "metadata": {
    "colab": {
     "base_uri": "https://localhost:8080/"
    },
    "id": "DSnmX3WnqVCG",
    "outputId": "a73a6253-711d-4125-a987-aa5330bbea44"
   },
   "outputs": [
    {
     "name": "stdout",
     "output_type": "stream",
     "text": [
      "Model: \"model_5\"\n",
      "_________________________________________________________________\n",
      "Layer (type)                 Output Shape              Param #   \n",
      "=================================================================\n",
      "input_10 (InputLayer)        [(None, 770)]             0         \n",
      "_________________________________________________________________\n",
      "dense_15 (Dense)             (None, 1024)              789504    \n",
      "_________________________________________________________________\n",
      "leaky_re_lu_12 (LeakyReLU)   (None, 1024)              0         \n",
      "_________________________________________________________________\n",
      "dropout_12 (Dropout)         (None, 1024)              0         \n",
      "_________________________________________________________________\n",
      "dense_16 (Dense)             (None, 1024)              1049600   \n",
      "_________________________________________________________________\n",
      "leaky_re_lu_13 (LeakyReLU)   (None, 1024)              0         \n",
      "_________________________________________________________________\n",
      "dropout_13 (Dropout)         (None, 1024)              0         \n",
      "_________________________________________________________________\n",
      "dense_17 (Dense)             (None, 512)               524800    \n",
      "_________________________________________________________________\n",
      "leaky_re_lu_14 (LeakyReLU)   (None, 512)               0         \n",
      "_________________________________________________________________\n",
      "dropout_14 (Dropout)         (None, 512)               0         \n",
      "_________________________________________________________________\n",
      "dense_18 (Dense)             (None, 64)                32832     \n",
      "_________________________________________________________________\n",
      "leaky_re_lu_15 (LeakyReLU)   (None, 64)                0         \n",
      "_________________________________________________________________\n",
      "dropout_15 (Dropout)         (None, 64)                0         \n",
      "_________________________________________________________________\n",
      "dense_19 (Dense)             (None, 2)                 130       \n",
      "=================================================================\n",
      "Total params: 2,396,866\n",
      "Trainable params: 2,396,866\n",
      "Non-trainable params: 0\n",
      "_________________________________________________________________\n"
     ]
    }
   ],
   "source": [
    "# Model \n",
    "ip = Input(shape=(770,))\n",
    "x = Dense(1024)(ip)\n",
    "x = LeakyReLU()(x)\n",
    "x = Dropout(0.2)(x)\n",
    "x = Dense(1024)(x)\n",
    "x = LeakyReLU()(x)\n",
    "x = Dropout(0.2)(x)\n",
    "x = Dense(512)(x)\n",
    "x = LeakyReLU()(x)\n",
    "x = Dropout(0.2)(x)\n",
    "x = Dense(64)(x)\n",
    "x = LeakyReLU()(x)\n",
    "x = Dropout(0.2)(x)\n",
    "out = Dense(2, activation='softmax')(x)\n",
    "model = Model(ip, out)\n",
    "model.summary()"
   ]
  },
  {
   "cell_type": "code",
   "execution_count": 199,
   "metadata": {
    "id": "EPA-aZYEFCl8"
   },
   "outputs": [],
   "source": [
    "# Callbacks and compile\n",
    "ckp_path = \"/checkpoint\"\n",
    "ckp = tf.keras.callbacks.ModelCheckpoint(filepath=ckp_path,monitor=\"val_accuracy\",verbose=0, save_best_only=True, save_freq=\"epoch\")\n",
    "model.compile(loss='categorical_crossentropy', optimizer=Adam(0.001), metrics=['accuracy', 'AUC'])"
   ]
  },
  {
   "cell_type": "code",
   "execution_count": 200,
   "metadata": {
    "colab": {
     "base_uri": "https://localhost:8080/"
    },
    "id": "dKX8u_HqFCl8",
    "outputId": "dbd72791-353e-4e0e-fc93-bdfb93c7a2b0",
    "scrolled": true,
    "tags": []
   },
   "outputs": [
    {
     "name": "stdout",
     "output_type": "stream",
     "text": [
      "Epoch 1/20\n",
      "19/19 [==============================] - 1s 29ms/step - loss: 1.0830 - accuracy: 0.5297 - auc: 0.5232 - val_loss: 0.7986 - val_accuracy: 0.2007 - val_auc: 0.2221\n",
      "INFO:tensorflow:Assets written to: /checkpoint/assets\n"
     ]
    },
    {
     "name": "stderr",
     "output_type": "stream",
     "text": [
      "INFO:tensorflow:Assets written to: /checkpoint/assets\n"
     ]
    },
    {
     "name": "stdout",
     "output_type": "stream",
     "text": [
      "Epoch 2/20\n",
      "19/19 [==============================] - 0s 10ms/step - loss: 0.7069 - accuracy: 0.5787 - auc: 0.6070 - val_loss: 0.5280 - val_accuracy: 0.8127 - val_auc: 0.8912\n",
      "INFO:tensorflow:Assets written to: /checkpoint/assets\n"
     ]
    },
    {
     "name": "stderr",
     "output_type": "stream",
     "text": [
      "INFO:tensorflow:Assets written to: /checkpoint/assets\n"
     ]
    },
    {
     "name": "stdout",
     "output_type": "stream",
     "text": [
      "Epoch 3/20\n",
      "19/19 [==============================] - 0s 11ms/step - loss: 0.5670 - accuracy: 0.7462 - auc: 0.8075 - val_loss: 0.6628 - val_accuracy: 0.5786 - val_auc: 0.6386\n",
      "Epoch 4/20\n",
      "19/19 [==============================] - 0s 10ms/step - loss: 0.4244 - accuracy: 0.8216 - auc: 0.8919 - val_loss: 0.9023 - val_accuracy: 0.4666 - val_auc: 0.5234\n",
      "Epoch 5/20\n",
      "19/19 [==============================] - 0s 10ms/step - loss: 0.3621 - accuracy: 0.8371 - auc: 0.9167 - val_loss: 0.8468 - val_accuracy: 0.6773 - val_auc: 0.7400\n",
      "Epoch 6/20\n",
      "19/19 [==============================] - 0s 11ms/step - loss: 0.3975 - accuracy: 0.8400 - auc: 0.9116 - val_loss: 0.3707 - val_accuracy: 0.8344 - val_auc: 0.9158\n",
      "INFO:tensorflow:Assets written to: /checkpoint/assets\n"
     ]
    },
    {
     "name": "stderr",
     "output_type": "stream",
     "text": [
      "INFO:tensorflow:Assets written to: /checkpoint/assets\n"
     ]
    },
    {
     "name": "stdout",
     "output_type": "stream",
     "text": [
      "Epoch 7/20\n",
      "19/19 [==============================] - 0s 11ms/step - loss: 0.2748 - accuracy: 0.8865 - auc: 0.9539 - val_loss: 0.1906 - val_accuracy: 0.9130 - val_auc: 0.9802\n",
      "INFO:tensorflow:Assets written to: /checkpoint/assets\n"
     ]
    },
    {
     "name": "stderr",
     "output_type": "stream",
     "text": [
      "INFO:tensorflow:Assets written to: /checkpoint/assets\n"
     ]
    },
    {
     "name": "stdout",
     "output_type": "stream",
     "text": [
      "Epoch 8/20\n",
      "19/19 [==============================] - 0s 11ms/step - loss: 0.2725 - accuracy: 0.9008 - auc: 0.9588 - val_loss: 0.2197 - val_accuracy: 0.9114 - val_auc: 0.9701\n",
      "Epoch 9/20\n",
      "19/19 [==============================] - 0s 11ms/step - loss: 0.2563 - accuracy: 0.9049 - auc: 0.9623 - val_loss: 0.3175 - val_accuracy: 0.8863 - val_auc: 0.9427\n",
      "Epoch 10/20\n",
      "19/19 [==============================] - 0s 10ms/step - loss: 0.1762 - accuracy: 0.9397 - auc: 0.9838 - val_loss: 0.1272 - val_accuracy: 0.9415 - val_auc: 0.9899\n",
      "INFO:tensorflow:Assets written to: /checkpoint/assets\n"
     ]
    },
    {
     "name": "stderr",
     "output_type": "stream",
     "text": [
      "INFO:tensorflow:Assets written to: /checkpoint/assets\n"
     ]
    },
    {
     "name": "stdout",
     "output_type": "stream",
     "text": [
      "Epoch 11/20\n",
      "19/19 [==============================] - 0s 10ms/step - loss: 0.2901 - accuracy: 0.8836 - auc: 0.9495 - val_loss: 0.1309 - val_accuracy: 0.9565 - val_auc: 0.9906\n",
      "INFO:tensorflow:Assets written to: /checkpoint/assets\n"
     ]
    },
    {
     "name": "stderr",
     "output_type": "stream",
     "text": [
      "INFO:tensorflow:Assets written to: /checkpoint/assets\n"
     ]
    },
    {
     "name": "stdout",
     "output_type": "stream",
     "text": [
      "Epoch 12/20\n",
      "19/19 [==============================] - 0s 13ms/step - loss: 0.1807 - accuracy: 0.9363 - auc: 0.9816 - val_loss: 0.1210 - val_accuracy: 0.9615 - val_auc: 0.9913\n",
      "INFO:tensorflow:Assets written to: /checkpoint/assets\n"
     ]
    },
    {
     "name": "stderr",
     "output_type": "stream",
     "text": [
      "INFO:tensorflow:Assets written to: /checkpoint/assets\n"
     ]
    },
    {
     "name": "stdout",
     "output_type": "stream",
     "text": [
      "Epoch 13/20\n",
      "19/19 [==============================] - 0s 10ms/step - loss: 0.1862 - accuracy: 0.9288 - auc: 0.9777 - val_loss: 0.1203 - val_accuracy: 0.9515 - val_auc: 0.9920\n",
      "Epoch 14/20\n",
      "19/19 [==============================] - 0s 14ms/step - loss: 0.2316 - accuracy: 0.9116 - auc: 0.9670 - val_loss: 0.1401 - val_accuracy: 0.9532 - val_auc: 0.9914\n",
      "Epoch 15/20\n",
      "19/19 [==============================] - 0s 10ms/step - loss: 0.1804 - accuracy: 0.9338 - auc: 0.9801 - val_loss: 0.1179 - val_accuracy: 0.9532 - val_auc: 0.9915\n",
      "Epoch 16/20\n",
      "19/19 [==============================] - 0s 10ms/step - loss: 0.1662 - accuracy: 0.9301 - auc: 0.9818 - val_loss: 0.0984 - val_accuracy: 0.9682 - val_auc: 0.9942\n",
      "INFO:tensorflow:Assets written to: /checkpoint/assets\n"
     ]
    },
    {
     "name": "stderr",
     "output_type": "stream",
     "text": [
      "INFO:tensorflow:Assets written to: /checkpoint/assets\n"
     ]
    },
    {
     "name": "stdout",
     "output_type": "stream",
     "text": [
      "Epoch 17/20\n",
      "19/19 [==============================] - 0s 10ms/step - loss: 0.1187 - accuracy: 0.9510 - auc: 0.9913 - val_loss: 0.1207 - val_accuracy: 0.9548 - val_auc: 0.9909\n",
      "Epoch 18/20\n",
      "19/19 [==============================] - 0s 11ms/step - loss: 0.1515 - accuracy: 0.9359 - auc: 0.9838 - val_loss: 0.1025 - val_accuracy: 0.9615 - val_auc: 0.9938\n",
      "Epoch 19/20\n",
      "19/19 [==============================] - 0s 11ms/step - loss: 0.1342 - accuracy: 0.9535 - auc: 0.9907 - val_loss: 0.1703 - val_accuracy: 0.9281 - val_auc: 0.9830\n",
      "Epoch 20/20\n",
      "19/19 [==============================] - 0s 11ms/step - loss: 0.1117 - accuracy: 0.9590 - auc: 0.9916 - val_loss: 0.0845 - val_accuracy: 0.9716 - val_auc: 0.9961\n",
      "INFO:tensorflow:Assets written to: /checkpoint/assets\n"
     ]
    },
    {
     "name": "stderr",
     "output_type": "stream",
     "text": [
      "INFO:tensorflow:Assets written to: /checkpoint/assets\n"
     ]
    }
   ],
   "source": [
    "# Train for 20 epochs\n",
    "hist = model.fit(x_train_fin, y_train, batch_size=128, epochs=20, class_weight=class_weights,\\\n",
    "                 validation_data=(x_test_fin, y_test), callbacks=[ckp])"
   ]
  },
  {
   "cell_type": "code",
   "execution_count": 201,
   "metadata": {
    "colab": {
     "base_uri": "https://localhost:8080/"
    },
    "id": "GghzMVUALDWT",
    "outputId": "4534bd72-a36b-4c6a-b1dd-6ba12575a53a"
   },
   "outputs": [
    {
     "name": "stdout",
     "output_type": "stream",
     "text": [
      "19/19 [==============================] - 0s 5ms/step - loss: 0.0845 - accuracy: 0.9716 - auc: 0.9961\n"
     ]
    },
    {
     "data": {
      "text/plain": [
       "[0.08453422039747238, 0.9715719223022461, 0.9960683584213257]"
      ]
     },
     "execution_count": 201,
     "metadata": {},
     "output_type": "execute_result"
    }
   ],
   "source": [
    "# Load the best model with the highest validation accuracy\n",
    "model.load_weights(ckp_path)\n",
    "model.evaluate(x_test_fin, y_test)"
   ]
  },
  {
   "cell_type": "code",
   "execution_count": null,
   "metadata": {
    "id": "sg8SWaWTVCel"
   },
   "outputs": [],
   "source": [
    "#model.save(\"bert_spam\")"
   ]
  },
  {
   "cell_type": "code",
   "execution_count": 203,
   "metadata": {
    "colab": {
     "base_uri": "https://localhost:8080/",
     "height": 265
    },
    "id": "qEQjQAyBFCl8",
    "outputId": "f3d14745-d311-442a-b13e-8d9ef4c5f068",
    "tags": []
   },
   "outputs": [
    {
     "data": {
      "image/png": "[encoded data removed]",
      "text/plain": [
       "<Figure size 432x288 with 1 Axes>"
      ]
     },
     "metadata": {
      "needs_background": "light"
     },
     "output_type": "display_data"
    }
   ],
   "source": [
    "# Loss plot\n",
    "plt.plot(range(20) ,hist.history['loss'], label='train Loss')\n",
    "plt.plot(range(20) ,hist.history['val_loss'], label='test Loss')\n",
    "plt.legend()\n",
    "plt.show()"
   ]
  },
  {
   "cell_type": "code",
   "execution_count": 204,
   "metadata": {
    "colab": {
     "base_uri": "https://localhost:8080/",
     "height": 267
    },
    "id": "nnNpWcJfMlMT",
    "outputId": "0ad621a7-88df-44c2-d10d-3d3240664542"
   },
   "outputs": [
    {
     "data": {
      "image/png": "[encoded data removed]",
      "text/plain": [
       "<Figure size 432x288 with 1 Axes>"
      ]
     },
     "metadata": {
      "needs_background": "light"
     },
     "output_type": "display_data"
    }
   ],
   "source": [
    "# Accuracy plot\n",
    "plt.plot(range(20) ,hist.history['accuracy'], label='train accuracy')\n",
    "plt.plot(range(20) ,hist.history['val_accuracy'], label='test accuracy')\n",
    "plt.legend()\n",
    "plt.show()"
   ]
  },
  {
   "cell_type": "markdown",
   "metadata": {
    "id": "kcILeYZI9pxm"
   },
   "source": [
    "## Create pipeline for future input"
   ]
  },
  {
   "cell_type": "code",
   "execution_count": null,
   "metadata": {},
   "outputs": [],
   "source": [
    "# Loading saved functions and models\n",
    "bert_model = tf.keras.models.load_model('encoder_model')\n",
    "vocab_file = pickle.load(open('bert_vocab.pkl', 'rb'))\n",
    "do_lower_case = pickle.load(open('bert_lowercase.pkl', 'rb'))\n",
    "model = tf.keras.models.load_model('bert_spam')\n",
    "tokenizer = pickle.load(open('tokenizer_save.pkl','rb'))"
   ]
  },
  {
   "cell_type": "code",
   "execution_count": 34,
   "metadata": {
    "id": "Nd_ZulbQMNzV"
   },
   "outputs": [],
   "source": [
    "# Making a pipeline to process and predict the a given sentence\n",
    "\n",
    "def pipeline(x):\n",
    "    x = init_preprocess(x)\n",
    "    num_pres = np.array(1 if \"NUMBER\" in x else 0).reshape(1,-1)\n",
    "    url_pres =  np.array(1 if \"URL\" in x else 0).reshape(1,-1)\n",
    "    x = preprocess(x)\n",
    "    max_seq_len = 512\n",
    "    segment = np.zeros((1, max_seq_len))\n",
    "    tokens = tokenizer.tokenize(x)\n",
    "    tokens = tokens[:(max_seq_len-2)]\n",
    "    tokens = ['[CLS]',*tokens,'[SEP]']\n",
    "    zeros = len(tokens)\n",
    "    while len(tokens)<max_seq_len:\n",
    "        tokens.append('[PAD]')\n",
    "    tokens = np.array(tokenizer.convert_tokens_to_ids(tokens)).reshape(1,-1)\n",
    "    mask = np.array([1]*zeros+[0]*(max_seq_len - zeros)).reshape(1,-1)\n",
    "    pred = bert_model.predict(dict(input_word_ids=tokens, input_mask=mask, input_type_ids=segment))\n",
    "    fin_arr = np.hstack((pred, num_pres, url_pres))\n",
    "    fpred = model.predict(fin_arr)\n",
    "    if np.argmax(fpred) == 1: \n",
    "        print(\"This is a spam\")\n",
    "        print(\"Confidence: {}%\".format(round(fpred[0][1]*100,2)))\n",
    "    else: \n",
    "        print(\"This is legit\")\n",
    "        print(\"Confidence: {}%\".format(round(fpred[0][0]*100,2)))"
   ]
  },
  {
   "cell_type": "code",
   "execution_count": 40,
   "metadata": {
    "colab": {
     "base_uri": "https://localhost:8080/"
    },
    "id": "gTL0SDV_OfaN",
    "outputId": "ca6a9439-1f84-4793-f6a5-4f40f9d50f6e"
   },
   "outputs": [
    {
     "name": "stdout",
     "output_type": "stream",
     "text": [
      "This is a spam\n",
      "Confidence: 97.59%\n"
     ]
    }
   ],
   "source": [
    "# General example\n",
    "sent = \"I am here to help, please send me your money, I will double it in 50 days.\"\n",
    "pipeline(sent)"
   ]
  },
  {
   "cell_type": "code",
   "execution_count": null,
   "metadata": {},
   "outputs": [],
   "source": []
  },
  {
   "cell_type": "code",
   "execution_count": null,
   "metadata": {},
   "outputs": [],
   "source": []
  }
 ],
 "metadata": {
  "accelerator": "GPU",
  "colab": {
   "collapsed_sections": [],
   "name": "bert_spam_detection.ipynb",
   "provenance": []
  },
  "kernelspec": {
   "display_name": "Python 3 (ipykernel)",
   "language": "python",
   "name": "python3"
  },
  "language_info": {
   "codemirror_mode": {
    "name": "ipython",
    "version": 3
   },
   "file_extension": ".py",
   "mimetype": "text/x-python",
   "name": "python",
   "nbconvert_exporter": "python",
   "pygments_lexer": "ipython3",
   "version": "3.9.7"
  }
 },
 "nbformat": 4,
 "nbformat_minor": 4
}
